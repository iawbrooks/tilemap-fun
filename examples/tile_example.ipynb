{
 "cells": [
  {
   "cell_type": "code",
   "execution_count": 3,
   "metadata": {},
   "outputs": [],
   "source": [
    "import boilerplate\n",
    "\n",
    "import pygame as pg\n",
    "\n",
    "from utils import Timer, Vec, Tilemap"
   ]
  },
  {
   "cell_type": "code",
   "execution_count": 4,
   "metadata": {},
   "outputs": [],
   "source": [
    "DISPLAY_SIZE = (960,720)\n",
    "MAX_FPS = 30\n",
    "FRAME_PERIOD = 1.0 / MAX_FPS\n",
    "\n",
    "def main():\n",
    "    # Window initialization\n",
    "    pg.init()\n",
    "    pg.display.set_caption(\"Tiles\")\n",
    "    screen = pg.display.set_mode(DISPLAY_SIZE)\n",
    "    background = pg.Surface(DISPLAY_SIZE)\n",
    "    background.fill(pg.Color('#440088'))\n",
    "    \n",
    "    # Game initialization\n",
    "    timer = Timer(FRAME_PERIOD)\n",
    "    tilemap_shape = Vec(32, 32)\n",
    "    tilemap = Tilemap(\n",
    "        surface = background,\n",
    "        shape = tilemap_shape,\n",
    "        border_pad = Vec(10, 10),\n",
    "        force_square = True,\n",
    "    )\n",
    "    for x in range(tilemap_shape.X):\n",
    "       for y in range(tilemap_shape.Y):\n",
    "            color = pg.Color(240, 240, 240) if (x + y) % 2 else pg.Color(200, 200, 200)\n",
    "            tilemap.set_color(Vec(x, y), color)\n",
    "\n",
    "\n",
    "    # Main game loop\n",
    "    should_run = True\n",
    "    while should_run:\n",
    "        timer.wait()\n",
    "        for event in pg.event.get():\n",
    "         if event.type == pg.QUIT:\n",
    "             should_run = False\n",
    "\n",
    "        screen.blit(background, (0, 0))\n",
    "\n",
    "        pg.display.update()\n",
    "    \n",
    "    # Clean up\n",
    "    pg.quit()"
   ]
  },
  {
   "cell_type": "code",
   "execution_count": 5,
   "metadata": {},
   "outputs": [],
   "source": [
    "main()"
   ]
  }
 ],
 "metadata": {
  "kernelspec": {
   "display_name": "venv",
   "language": "python",
   "name": "python3"
  },
  "language_info": {
   "codemirror_mode": {
    "name": "ipython",
    "version": 3
   },
   "file_extension": ".py",
   "mimetype": "text/x-python",
   "name": "python",
   "nbconvert_exporter": "python",
   "pygments_lexer": "ipython3",
   "version": "3.11.0"
  }
 },
 "nbformat": 4,
 "nbformat_minor": 2
}
